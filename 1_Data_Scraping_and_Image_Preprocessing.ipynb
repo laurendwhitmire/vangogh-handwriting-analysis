{
 "cells": [
  {
   "cell_type": "code",
   "execution_count": 1,
   "metadata": {},
   "outputs": [],
   "source": [
    "import numpy as np\n",
    "import pandas as pd\n",
    "import re\n",
    "import pickle\n",
    "import os\n",
    "import time\n",
    "import urllib\n",
    "import requests \n",
    "from bs4 import BeautifulSoup\n",
    "\n",
    "from matplotlib import pyplot as plt\n",
    "import matplotlib.cm as cm\n",
    "from skimage.filters import threshold_isodata\n",
    "from PIL import Image\n",
    "%matplotlib inline"
   ]
  },
  {
   "cell_type": "markdown",
   "metadata": {},
   "source": [
    "### Scraping the letter transcripts"
   ]
  },
  {
   "cell_type": "markdown",
   "metadata": {},
   "source": [
    "The Van Gogh Museum has an online archive of all of the surviving letters of Vincent van Gogh. For each letter, various information is recorded: recipient, location where the letter was written, and the date it was penned. The page for each letter also contains the transcribed and translated text of each letter as well as scanned images.  \n",
    "First, I scraped the recipient, place, and date for each letter from the page listing them in chronological order. My analysis requires letters penned by the same author, so I only scraped the letters that are written by van Gogh and skipped those written to him."
   ]
  },
  {
   "cell_type": "code",
   "execution_count": 2,
   "metadata": {},
   "outputs": [],
   "source": [
    "url = 'http://vangoghletters.org/vg/letters.html'\n",
    "response = requests.get(url)\n",
    "webpage = response.text\n",
    "soup = BeautifulSoup(webpage,'lxml')\n",
    "# getting info for all letters written by Van Gogh alone, not including RM's\n",
    "letter_info = []\n",
    "for c in soup.find(id='searchresult').find('ul').find_all('li'):\n",
    "    try:\n",
    "        info = re.match('([^\\s]+).*[T][o] (.*)[.] (.*?)[,] (.*)[.]',c.text)\n",
    "        letid = info.group(1)\n",
    "        recipient = info.group(2)\n",
    "        place = info.group(3)\n",
    "        date = info.group(4)\n",
    "        if 'RM' not in letid:\n",
    "            letter_info.append([letid, recipient, place, date])\n",
    "    except: pass\n",
    "\n",
    "letter_info = pd.DataFrame(letter_info, columns=['let_id','recipient','place','date'])"
   ]
  },
  {
   "cell_type": "markdown",
   "metadata": {},
   "source": [
    "I then went to the individual urls for each letter and scraped the translated transcript text for each:"
   ]
  },
  {
   "cell_type": "code",
   "execution_count": 3,
   "metadata": {},
   "outputs": [],
   "source": [
    "letter_text = []\n",
    "for letid in list(letter_info.let_id):\n",
    "    url = f'http://vangoghletters.org/vg/letters/let{letid}/letter.html'\n",
    "    response = requests.get(url)\n",
    "    webpage = response.text\n",
    "    soup = BeautifulSoup(webpage,'lxml')\n",
    "    paragraphs = [p.text for p in soup.find(id='letterbox1').find(class_='pagebreak').find_next_siblings(class_='p')]\n",
    "    text = '\\n'.join(paragraphs)\n",
    "    letter_text.append([letid, text])\n",
    "    time.sleep(1)\n",
    "letter_info = letter_info.merge(pd.DataFrame(letter_list,columns=['let_id','transcript']), how='outer', on='let_id')"
   ]
  },
  {
   "cell_type": "markdown",
   "metadata": {},
   "source": [
    "Some of the letter pages had a slightly different html structure, so I did a second round of scraping to grab those letters:"
   ]
  },
  {
   "cell_type": "code",
   "execution_count": 4,
   "metadata": {},
   "outputs": [],
   "source": [
    "missing_transcripts = list(letter_info[letter_info['transcript'] == ''].let_id)\n",
    "missing_text = {}\n",
    "for letid in missing_transcripts:\n",
    "    url = f'http://vangoghletters.org/vg/letters/let{letid}/letter.html'\n",
    "    response = requests.get(url)\n",
    "    webpage = response.text\n",
    "    soup = BeautifulSoup(webpage,'lxml')\n",
    "    paragraphs = [p.text for p in soup.find(id='letterbox1').find_all(class_='p')][1:-1]\n",
    "    text = '\\n'.join(paragraphs)\n",
    "    missing_text[letid] = text\n",
    "    time.sleep(1)\n",
    "for i,row in letter_info[letter_info['let_id'].isin(missing_transcripts)].iterrows():\n",
    "    letter_info.loc[i,'transcript'] = missing_text[row.let_id]\n",
    "\n",
    "pd.DataFrame(letter_info).to_pickle('data/letter_info.pkl')"
   ]
  },
  {
   "cell_type": "code",
   "execution_count": null,
   "metadata": {},
   "outputs": [],
   "source": [
    "letter_info = pd.read_pickle('data/letter_info.pkl')"
   ]
  },
  {
   "cell_type": "markdown",
   "metadata": {},
   "source": [
    "The letter_info dataframe now contains the metadata for each letter as well as the transcript of the letter."
   ]
  },
  {
   "cell_type": "code",
   "execution_count": 5,
   "metadata": {},
   "outputs": [
    {
     "data": {
      "text/html": [
       "<div>\n",
       "<style scoped>\n",
       "    .dataframe tbody tr th:only-of-type {\n",
       "        vertical-align: middle;\n",
       "    }\n",
       "\n",
       "    .dataframe tbody tr th {\n",
       "        vertical-align: top;\n",
       "    }\n",
       "\n",
       "    .dataframe thead th {\n",
       "        text-align: right;\n",
       "    }\n",
       "</style>\n",
       "<table border=\"1\" class=\"dataframe\">\n",
       "  <thead>\n",
       "    <tr style=\"text-align: right;\">\n",
       "      <th></th>\n",
       "      <th>let_id</th>\n",
       "      <th>recipient</th>\n",
       "      <th>place</th>\n",
       "      <th>date</th>\n",
       "      <th>transcript</th>\n",
       "    </tr>\n",
       "  </thead>\n",
       "  <tbody>\n",
       "    <tr>\n",
       "      <th>557</th>\n",
       "      <td>583</td>\n",
       "      <td>Theo van Gogh</td>\n",
       "      <td>Arles</td>\n",
       "      <td>Friday, 9 March 1888</td>\n",
       "      <td>My dear Theo,\\nNow at long last, this morning ...</td>\n",
       "    </tr>\n",
       "    <tr>\n",
       "      <th>746</th>\n",
       "      <td>816</td>\n",
       "      <td>Theo van Gogh</td>\n",
       "      <td>Saint-Rémy-de-Provence</td>\n",
       "      <td>on or about Sunday, 3 November 1889</td>\n",
       "      <td>My dear Theo,\\nEnclosed I’m sending you a list...</td>\n",
       "    </tr>\n",
       "    <tr>\n",
       "      <th>334</th>\n",
       "      <td>342</td>\n",
       "      <td>Theo van Gogh</td>\n",
       "      <td>The Hague</td>\n",
       "      <td>on or about Thursday, 10 May 1883</td>\n",
       "      <td>My dear Theo,\\nI received your letter in good ...</td>\n",
       "    </tr>\n",
       "    <tr>\n",
       "      <th>158</th>\n",
       "      <td>162</td>\n",
       "      <td>Theo van Gogh</td>\n",
       "      <td>Brussels</td>\n",
       "      <td>January 1881</td>\n",
       "      <td>Brussels, January 81.\\nMy dear Theo,\\nYou will...</td>\n",
       "    </tr>\n",
       "    <tr>\n",
       "      <th>262</th>\n",
       "      <td>270</td>\n",
       "      <td>Theo van Gogh</td>\n",
       "      <td>The Hague</td>\n",
       "      <td>on or about Sunday, 1 October 1882</td>\n",
       "      <td>My dear Theo,\\nJust a word to say that your le...</td>\n",
       "    </tr>\n",
       "  </tbody>\n",
       "</table>\n",
       "</div>"
      ],
      "text/plain": [
       "    let_id      recipient                   place  \\\n",
       "557    583  Theo van Gogh                   Arles   \n",
       "746    816  Theo van Gogh  Saint-Rémy-de-Provence   \n",
       "334    342  Theo van Gogh               The Hague   \n",
       "158    162  Theo van Gogh                Brussels   \n",
       "262    270  Theo van Gogh               The Hague   \n",
       "\n",
       "                                    date  \\\n",
       "557                 Friday, 9 March 1888   \n",
       "746  on or about Sunday, 3 November 1889   \n",
       "334    on or about Thursday, 10 May 1883   \n",
       "158                         January 1881   \n",
       "262   on or about Sunday, 1 October 1882   \n",
       "\n",
       "                                            transcript  \n",
       "557  My dear Theo,\\nNow at long last, this morning ...  \n",
       "746  My dear Theo,\\nEnclosed I’m sending you a list...  \n",
       "334  My dear Theo,\\nI received your letter in good ...  \n",
       "158  Brussels, January 81.\\nMy dear Theo,\\nYou will...  \n",
       "262  My dear Theo,\\nJust a word to say that your le...  "
      ]
     },
     "execution_count": 5,
     "metadata": {},
     "output_type": "execute_result"
    }
   ],
   "source": [
    "letter_info.sample(5)"
   ]
  },
  {
   "cell_type": "markdown",
   "metadata": {},
   "source": [
    "### Downloading the scanned letters"
   ]
  },
  {
   "cell_type": "markdown",
   "metadata": {},
   "source": [
    "The scanned images were not directly embedded in the html file, so I found and downloaded a zip of the xml files from the museum website which contained the appropriate urls for each image. First, I created a list of the downloaded xml filenames."
   ]
  },
  {
   "cell_type": "code",
   "execution_count": 6,
   "metadata": {},
   "outputs": [],
   "source": [
    "%ls data/xml/ > data/xml_filenames.txt\n",
    "with open('data/xml_filenames.txt','r') as f:\n",
    "    xml_filenames = f.readlines()\n",
    "    xml_filenames = [f.strip() for f in xml_filenames]"
   ]
  },
  {
   "cell_type": "markdown",
   "metadata": {},
   "source": [
    "To then save the images, I parsed the xml files to get the urls and downloaded each image."
   ]
  },
  {
   "cell_type": "code",
   "execution_count": 7,
   "metadata": {},
   "outputs": [],
   "source": [
    "for f in xml_filenames:\n",
    "    letid = re.match('[l][e][t](.*)[.]',f).group(1) # getting the numerical letid from the filename\n",
    "    if letid in list(letter_info.let_id):\n",
    "        i = 1\n",
    "        with open(f'data/xml/{f}', 'r') as file:\n",
    "            text = file.readlines()\n",
    "        for line in text:\n",
    "            if 'image/png' in line: # want to grab the images as pngs (highest resolution) out of the xml file\n",
    "                end = re.match('.*image\\/png\" url=\"(.*?)[\"]',line).group(1)\n",
    "                url = 'http://vangoghletters.org/vg/facsimiles/' + end\n",
    "                urllib.request.urlretrieve(url, f'data/scanned_letters/{letid}_0{i}.png') \n",
    "                i += 1"
   ]
  },
  {
   "cell_type": "markdown",
   "metadata": {},
   "source": [
    "### Image preprocessing"
   ]
  },
  {
   "cell_type": "markdown",
   "metadata": {},
   "source": [
    "#### Manual preprocessing"
   ]
  },
  {
   "cell_type": "markdown",
   "metadata": {},
   "source": [
    "Some of the scanned letters contained blank pages or pages dominated by sketches. Since I wanted the neural network to detect features of handwriting, I manually removed these (moved to 'data/scanned_images/blank_sketches') or cropped sketches out.  \n",
    "I also cropped the letterhead out of some letters because I didn't want the neural network finding similar features in letters just due to a common stationery. "
   ]
  },
  {
   "cell_type": "markdown",
   "metadata": {},
   "source": [
    "#### Image thresholding"
   ]
  },
  {
   "cell_type": "markdown",
   "metadata": {},
   "source": [
    "In order to reduce the information being processed by the autoencoder (to eliminate variations from dark spots in stationery etc), I performed a series of prepocessing steps using the PILLOW and scikit image libraries.  \n",
    "I converted each image to grayscale, resized to a uniform size, and then used adaptive thresholding to convert all images to a binary form and remove the background."
   ]
  },
  {
   "cell_type": "markdown",
   "metadata": {},
   "source": [
    "Here is a before and after of the thresholding:"
   ]
  },
  {
   "cell_type": "code",
   "execution_count": 8,
   "metadata": {},
   "outputs": [
    {
     "data": {
      "image/png": "[encoded data removed]",
      "text/plain": [
       "<Figure size 432x288 with 1 Axes>"
      ]
     },
     "metadata": {
      "needs_background": "light"
     },
     "output_type": "display_data"
    },
    {
     "data": {
      "image/png": "[encoded data removed]",
      "text/plain": [
       "<Figure size 432x288 with 1 Axes>"
      ]
     },
     "metadata": {
      "needs_background": "light"
     },
     "output_type": "display_data"
    }
   ],
   "source": [
    "img = Image.open('data/scanned_letters/cleaned_cropped/288_05.png')\n",
    "plt.imshow(img, cmap=cm.gray)\n",
    "plt.axis('off')\n",
    "plt.show()\n",
    "\n",
    "img = img.convert('L')\n",
    "img = img.resize((256,256))\n",
    "img = np.asarray(img)\n",
    "thresh = threshold_isodata(img)\n",
    "binary = (img >= thresh).astype('int')\n",
    "\n",
    "plt.imshow(binary, cmap=cm.gray)\n",
    "plt.axis('off')\n",
    "plt.show()"
   ]
  },
  {
   "cell_type": "code",
   "execution_count": 9,
   "metadata": {},
   "outputs": [],
   "source": [
    "thresholded_imgs = []\n",
    "for file in os.listdir('data/scanned_letters/cleaned_cropped'):\n",
    "    if file[0] != '.':\n",
    "        img = Image.open('data/scanned_letters/cleaned_cropped/' + file)\n",
    "        file = file.split('.')[0]          # remove the extension from the file name\n",
    "        img = img.convert('L')\n",
    "        img = img.resize((256,256))\n",
    "        img = np.asarray(img)\n",
    "        thresh = threshold_isodata(img)\n",
    "        binary = (img >= thresh).astype('int')\n",
    "        thresholded_imgs.append([file,binary]) # saving the letid and binary np array of each img\n",
    "\n",
    "thresholded_imgs = np.array(thresholded_imgs)      # convert list of lists to np array\n",
    "\n",
    "with open('data/thresholded_imgs.pkl','wb') as f:  # pickle the numpy array\n",
    "    pickle.dump(thresholded_imgs, f)"
   ]
  },
  {
   "cell_type": "code",
   "execution_count": 10,
   "metadata": {},
   "outputs": [],
   "source": [
    "with open('data/thresholded_imgs.pkl','rb') as f:\n",
    "    thresholded_imgs = pickle.load(f)"
   ]
  },
  {
   "cell_type": "code",
   "execution_count": 11,
   "metadata": {},
   "outputs": [
    {
     "data": {
      "text/html": [
       "<div>\n",
       "<style scoped>\n",
       "    .dataframe tbody tr th:only-of-type {\n",
       "        vertical-align: middle;\n",
       "    }\n",
       "\n",
       "    .dataframe tbody tr th {\n",
       "        vertical-align: top;\n",
       "    }\n",
       "\n",
       "    .dataframe thead th {\n",
       "        text-align: right;\n",
       "    }\n",
       "</style>\n",
       "<table border=\"1\" class=\"dataframe\">\n",
       "  <thead>\n",
       "    <tr style=\"text-align: right;\">\n",
       "      <th></th>\n",
       "      <th>0</th>\n",
       "      <th>1</th>\n",
       "    </tr>\n",
       "  </thead>\n",
       "  <tbody>\n",
       "    <tr>\n",
       "      <th>1463</th>\n",
       "      <td>589_03</td>\n",
       "      <td>[[1, 1, 1, 1, 1, 1, 1, 1, 1, 1, 1, 1, 1, 1, 1,...</td>\n",
       "    </tr>\n",
       "    <tr>\n",
       "      <th>253</th>\n",
       "      <td>535_02</td>\n",
       "      <td>[[1, 1, 1, 1, 1, 1, 1, 1, 1, 1, 1, 1, 1, 1, 1,...</td>\n",
       "    </tr>\n",
       "    <tr>\n",
       "      <th>1238</th>\n",
       "      <td>765_02</td>\n",
       "      <td>[[1, 1, 1, 1, 1, 1, 1, 1, 1, 1, 1, 1, 1, 1, 1,...</td>\n",
       "    </tr>\n",
       "    <tr>\n",
       "      <th>1962</th>\n",
       "      <td>377_02</td>\n",
       "      <td>[[1, 1, 1, 1, 1, 1, 1, 1, 1, 1, 1, 1, 1, 1, 1,...</td>\n",
       "    </tr>\n",
       "    <tr>\n",
       "      <th>406</th>\n",
       "      <td>823_01</td>\n",
       "      <td>[[1, 1, 1, 1, 1, 1, 1, 1, 1, 1, 1, 1, 1, 1, 1,...</td>\n",
       "    </tr>\n",
       "  </tbody>\n",
       "</table>\n",
       "</div>"
      ],
      "text/plain": [
       "           0                                                  1\n",
       "1463  589_03  [[1, 1, 1, 1, 1, 1, 1, 1, 1, 1, 1, 1, 1, 1, 1,...\n",
       "253   535_02  [[1, 1, 1, 1, 1, 1, 1, 1, 1, 1, 1, 1, 1, 1, 1,...\n",
       "1238  765_02  [[1, 1, 1, 1, 1, 1, 1, 1, 1, 1, 1, 1, 1, 1, 1,...\n",
       "1962  377_02  [[1, 1, 1, 1, 1, 1, 1, 1, 1, 1, 1, 1, 1, 1, 1,...\n",
       "406   823_01  [[1, 1, 1, 1, 1, 1, 1, 1, 1, 1, 1, 1, 1, 1, 1,..."
      ]
     },
     "execution_count": 11,
     "metadata": {},
     "output_type": "execute_result"
    }
   ],
   "source": [
    "pd.DataFrame(thresholded_imgs).sample(5)"
   ]
  },
  {
   "cell_type": "markdown",
   "metadata": {},
   "source": [
    "Now each image is a 256x256 np array"
   ]
  },
  {
   "cell_type": "code",
   "execution_count": 12,
   "metadata": {},
   "outputs": [
    {
     "data": {
      "text/plain": [
       "(256, 256)"
      ]
     },
     "execution_count": 12,
     "metadata": {},
     "output_type": "execute_result"
    }
   ],
   "source": [
    "pd.DataFrame(thresholded_imgs).loc[0,1].shape"
   ]
  }
 ],
 "metadata": {
  "kernelspec": {
   "display_name": "Python 3",
   "language": "python",
   "name": "python3"
  },
  "language_info": {
   "codemirror_mode": {
    "name": "ipython",
    "version": 3
   },
   "file_extension": ".py",
   "mimetype": "text/x-python",
   "name": "python",
   "nbconvert_exporter": "python",
   "pygments_lexer": "ipython3",
   "version": "3.7.3"
  },
  "toc": {
   "base_numbering": 1,
   "nav_menu": {},
   "number_sections": true,
   "sideBar": true,
   "skip_h1_title": false,
   "title_cell": "Table of Contents",
   "title_sidebar": "Contents",
   "toc_cell": false,
   "toc_position": {},
   "toc_section_display": true,
   "toc_window_display": false
  },
  "varInspector": {
   "cols": {
    "lenName": 16,
    "lenType": 16,
    "lenVar": 40
   },
   "kernels_config": {
    "python": {
     "delete_cmd_postfix": "",
     "delete_cmd_prefix": "del ",
     "library": "var_list.py",
     "varRefreshCmd": "print(var_dic_list())"
    },
    "r": {
     "delete_cmd_postfix": ") ",
     "delete_cmd_prefix": "rm(",
     "library": "var_list.r",
     "varRefreshCmd": "cat(var_dic_list()) "
    }
   },
   "types_to_exclude": [
    "module",
    "function",
    "builtin_function_or_method",
    "instance",
    "_Feature"
   ],
   "window_display": false
  }
 },
 "nbformat": 4,
 "nbformat_minor": 2
}
